{
 "cells": [
  {
   "cell_type": "code",
   "execution_count": 5,
   "metadata": {},
   "outputs": [],
   "source": [
    "import pandas as pd\n",
    "import psycopg2\n",
    "\n",
    "# Dictionnaire définissant le type de données pour chaque colonne\n",
    "column_types = {\n",
    "    \"PassengerId\": \"INTEGER\",\n",
    "    \"Survived\": \"Boolean\",\n",
    "    \"Pclass\": \"INTEGER\",\n",
    "    \"Name\": \"TEXT\",\n",
    "    \"Sex\": \"TEXT\",\n",
    "    \"Age\": \"REAL\",\n",
    "    \"SibSp\": \"INTEGER\",\n",
    "    \"Parch\": \"INTEGER\",\n",
    "    \"Ticket\": \"TEXT\",\n",
    "    \"Fare\": \"REAL\",\n",
    "    \"Cabin\": \"TEXT\",\n",
    "    \"Embarked\": \"TEXT\"\n",
    "}\n",
    "\n",
    "# Récupération des noms de colonnes à partir des clés du dictionnaire\n",
    "column_headers = column_types.keys()\n",
    "\n",
    "# Générer la commande SQL avec les types appropriés\n",
    "sql_command = \"CREATE TABLE titanic (\" + \", \".join([f\"{col} {column_types[col]}\" for col in column_headers]) + \");\"\n",
    "\n",
    "# Connexion à PostgreSQL et exécution de la commande\n",
    "conn = psycopg2.connect(\"dbname='workshopdb' user='dev' password='1234'\")\n",
    "cur = conn.cursor()\n",
    "cur.execute(sql_command)\n",
    "conn.commit()\n",
    "cur.close()\n",
    "conn.close()\n"
   ]
  },
  {
   "cell_type": "code",
   "execution_count": 7,
   "metadata": {},
   "outputs": [],
   "source": [
    "import csv\n",
    "import psycopg2\n",
    "\n",
    "# Connexion à la base de données\n",
    "conn = psycopg2.connect(\"dbname='workshopdb' user='dev' password='1234'\")\n",
    "cur = conn.cursor()\n",
    "\n",
    "# Calculer la moyenne d'âge\n",
    "ages = []\n",
    "with open('titanic.csv', 'r') as f:\n",
    "    reader = csv.DictReader(f)\n",
    "    for row in reader:\n",
    "        if row['Age']:\n",
    "            ages.append(float(row['Age']))\n",
    "\n",
    "age_moyen = sum(ages) / len(ages)\n",
    "\n",
    "# Insérer les données en remplaçant l'âge manquant par l'âge moyen\n",
    "with open('titanic.csv', 'r') as f:\n",
    "    reader = csv.reader(f)\n",
    "    next(reader)  # Ignorer l'en-tête\n",
    "    for row in reader:\n",
    "        row = [age_moyen if x == '' and i == 5 else x for i, x in enumerate(row)]  # i == 5 correspond à l'index de la colonne Age\n",
    "        cur.execute(\n",
    "            \"INSERT INTO titanic (PassengerId, Survived, Pclass, Name, Sex, Age, SibSp, Parch, Ticket, Fare, Cabin, Embarked) VALUES (%s, %s, %s, %s, %s, %s, %s, %s, %s, %s, %s, %s)\",\n",
    "            row\n",
    "        )\n",
    "\n",
    "# Valider et fermer\n",
    "conn.commit()\n",
    "cur.close()\n",
    "conn.close()\n",
    "\n"
   ]
  }
 ],
 "metadata": {
  "kernelspec": {
   "display_name": "Python 3",
   "language": "python",
   "name": "python3"
  },
  "language_info": {
   "codemirror_mode": {
    "name": "ipython",
    "version": 3
   },
   "file_extension": ".py",
   "mimetype": "text/x-python",
   "name": "python",
   "nbconvert_exporter": "python",
   "pygments_lexer": "ipython3",
   "version": "3.12.0"
  }
 },
 "nbformat": 4,
 "nbformat_minor": 2
}
